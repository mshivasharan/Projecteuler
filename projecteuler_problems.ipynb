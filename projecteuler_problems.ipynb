{
  "nbformat": 4,
  "nbformat_minor": 0,
  "metadata": {
    "colab": {
      "name": "projecteuler2",
      "provenance": [],
      "collapsed_sections": []
    },
    "kernelspec": {
      "name": "python3",
      "display_name": "Python 3"
    }
  },
  "cells": [
    {
      "cell_type": "code",
      "metadata": {
        "id": "rgeGXNHgHUxy",
        "colab_type": "code",
        "colab": {}
      },
      "source": [
        "\"\"\"By listing the first six prime numbers: 2, 3, 5, 7, 11, and 13, we can see that the 6th prime is 13.\n",
        "\n",
        "What is the 10 001st prime number?\"\"\"\n",
        "\n",
        "from sympy import isprime\n",
        "def nthprime(x):\n",
        "  n = 2\n",
        "  nthprime = 0\n",
        "  while n < 1000000:\n",
        "    if isprime(n) == True:\n",
        "      nthprime += 1 \n",
        "      if nthprime == x:\n",
        "        return n\n",
        "    n += 1"
      ],
      "execution_count": 0,
      "outputs": []
    },
    {
      "cell_type": "code",
      "metadata": {
        "id": "Pn7d2fs5KjBr",
        "colab_type": "code",
        "outputId": "1c45030a-3165-4e39-fab8-8ab5e2ceb65a",
        "colab": {
          "base_uri": "https://localhost:8080/",
          "height": 34
        }
      },
      "source": [
        "nthprime(10001)"
      ],
      "execution_count": 0,
      "outputs": [
        {
          "output_type": "execute_result",
          "data": {
            "text/plain": [
              "104743"
            ]
          },
          "metadata": {
            "tags": []
          },
          "execution_count": 11
        }
      ]
    },
    {
      "cell_type": "code",
      "metadata": {
        "id": "DToAlkpIPGJM",
        "colab_type": "code",
        "colab": {}
      },
      "source": [
        "\"Largest product in a series\"\n",
        "\n",
        "numbers =\"\"\"73167176531330624919225119674426574742355349194934\n",
        "96983520312774506326239578318016984801869478851843\n",
        "85861560789112949495459501737958331952853208805511\n",
        "12540698747158523863050715693290963295227443043557\n",
        "66896648950445244523161731856403098711121722383113\n",
        "62229893423380308135336276614282806444486645238749\n",
        "30358907296290491560440772390713810515859307960866\n",
        "70172427121883998797908792274921901699720888093776\n",
        "65727333001053367881220235421809751254540594752243\n",
        "52584907711670556013604839586446706324415722155397\n",
        "53697817977846174064955149290862569321978468622482\n",
        "83972241375657056057490261407972968652414535100474\n",
        "82166370484403199890008895243450658541227588666881\n",
        "16427171479924442928230863465674813919123162824586\n",
        "17866458359124566529476545682848912883142607690042\n",
        "24219022671055626321111109370544217506941658960408\n",
        "07198403850962455444362981230987879927244284909188\n",
        "84580156166097919133875499200524063689912560717606\n",
        "05886116467109405077541002256983155200055935729725\n",
        "71636269561882670428252483600823257530420752963450\"\"\""
      ],
      "execution_count": 0,
      "outputs": []
    },
    {
      "cell_type": "code",
      "metadata": {
        "id": "mRnYeLlZUtH-",
        "colab_type": "code",
        "outputId": "067dda45-978f-42bb-f786-c629e0413ebe",
        "colab": {
          "base_uri": "https://localhost:8080/",
          "height": 34
        }
      },
      "source": [
        "def remove(numbers):\n",
        "    return \"\".join(numbers.split())\n",
        "\n",
        "def adjacentdigits(numbers, length, j):\n",
        "  numbers = remove(numbers)\n",
        "  lst = []\n",
        "  mult = 1\n",
        "  lst_product = []\n",
        "  for x in numbers[j:]:\n",
        "    lst.append(x)\n",
        "    if len(lst) == length and '0' not in lst:\n",
        "      for i in lst:\n",
        "        k = int(i)\n",
        "        mult *= k\n",
        "      lst_product.append(mult)\n",
        "  return lst_product\n",
        "\n",
        "def largest_product(numbers, length):\n",
        "  larget_prod = []\n",
        "  for j in range(len(numbers)-length): \n",
        "    z = adjacentdigits(numbers, length, j)\n",
        "    larget_prod.append(z)\n",
        "  return max(larget_prod)\n",
        "\n",
        "largest_product(numbers, 13)"
      ],
      "execution_count": 0,
      "outputs": [
        {
          "output_type": "execute_result",
          "data": {
            "text/plain": [
              "[5832]"
            ]
          },
          "metadata": {
            "tags": []
          },
          "execution_count": 99
        }
      ]
    },
    {
      "cell_type": "code",
      "metadata": {
        "id": "53hfu0EAVSHg",
        "colab_type": "code",
        "outputId": "727e2bd3-7e34-424f-fd8d-55dc46980240",
        "colab": {
          "base_uri": "https://localhost:8080/",
          "height": 34
        }
      },
      "source": [
        "largest_product(numbers, 13)"
      ],
      "execution_count": 0,
      "outputs": [
        {
          "output_type": "execute_result",
          "data": {
            "text/plain": [
              "[23514624000]"
            ]
          },
          "metadata": {
            "tags": []
          },
          "execution_count": 101
        }
      ]
    },
    {
      "cell_type": "code",
      "metadata": {
        "id": "Lr8FYQ7NVZv-",
        "colab_type": "code",
        "colab": {}
      },
      "source": [
        "\"\"\" A Pythagorean triplet is a set of three natural numbers, a < b < c, for which,\n",
        "\n",
        "a2 + b2 = c2\n",
        "For example, 32 + 42 = 9 + 16 = 25 = 52.\n",
        "\n",
        "There exists exactly one Pythagorean triplet for which a + b + c = 1000.\n",
        "Find the product abc.\"\"\"\n",
        "\n",
        "def Pythagorean_triplet(a, b, n):\n",
        "  for i in range(100, a):\n",
        "    for j in range(100, b):\n",
        "      k = n - i - j\n",
        "      if pow(i, 2) + pow(j, 2) == pow(k,2):\n",
        "        return i, j, k, i* j* k"
      ],
      "execution_count": 0,
      "outputs": []
    },
    {
      "cell_type": "code",
      "metadata": {
        "id": "zxA1wzfjnk8E",
        "colab_type": "code",
        "outputId": "3f2bae17-d869-4b96-cd27-c34b210753ba",
        "colab": {
          "base_uri": "https://localhost:8080/",
          "height": 34
        }
      },
      "source": [
        "Pythagorean_triplet(500, 500, 1000)"
      ],
      "execution_count": 0,
      "outputs": [
        {
          "output_type": "execute_result",
          "data": {
            "text/plain": [
              "(200, 375, 425, 31875000)"
            ]
          },
          "metadata": {
            "tags": []
          },
          "execution_count": 126
        }
      ]
    },
    {
      "cell_type": "code",
      "metadata": {
        "id": "a1TJOP-Fxglb",
        "colab_type": "code",
        "colab": {}
      },
      "source": [
        "\"\"\"The sum of the primes below 10 is 2 + 3 + 5 + 7 = 17.\n",
        "\n",
        "Find the sum of all the primes below two million.\"\"\"\n",
        "\n",
        "from sympy import isprime\n",
        "\n",
        "def sum_of_primes(n):\n",
        "  totalprimes = []\n",
        "  for i in range(1, n):\n",
        "    if isprime(i) == True:\n",
        "      totalprimes.append(i)\n",
        "  return sum(totalprimes)\n",
        "sum_of_primes(2000000)"
      ],
      "execution_count": 0,
      "outputs": []
    },
    {
      "cell_type": "code",
      "metadata": {
        "id": "mZ-v1Nmf2Axf",
        "colab_type": "code",
        "outputId": "9b510f2c-2476-4aa4-9314-f9ac2b0cbc0e",
        "colab": {
          "base_uri": "https://localhost:8080/",
          "height": 34
        }
      },
      "source": [
        "sum_of_primes(2000000)"
      ],
      "execution_count": 0,
      "outputs": [
        {
          "output_type": "execute_result",
          "data": {
            "text/plain": [
              "17"
            ]
          },
          "metadata": {
            "tags": []
          },
          "execution_count": 130
        }
      ]
    },
    {
      "cell_type": "code",
      "metadata": {
        "id": "ckbQlAlT3UMU",
        "colab_type": "code",
        "colab": {}
      },
      "source": [
        "grid = \"\"\"08 02 22 97 38 15 00 40 00 75 04 05 07 78 52 12 50 77 91 08\n",
        "49 49 99 40 17 81 18 57 60 87 17 40 98 43 69 48 04 56 62 00\n",
        "81 49 31 73 55 79 14 29 93 71 40 67 53 88 30 03 49 13 36 65\n",
        "52 70 95 23 04 60 11 42 69 24 68 56 01 32 56 71 37 02 36 91\n",
        "22 31 16 71 51 67 63 89 41 92 36 54 22 40 40 28 66 33 13 80\n",
        "24 47 32 60 99 03 45 02 44 75 33 53 78 36 84 20 35 17 12 50\n",
        "32 98 81 28 64 23 67 10 26 38 40 67 59 54 70 66 18 38 64 70\n",
        "67 26 20 68 02 62 12 20 95 63 94 39 63 08 40 91 66 49 94 21\n",
        "24 55 58 05 66 73 99 26 97 17 78 78 96 83 14 88 34 89 63 72\n",
        "21 36 23 09 75 00 76 44 20 45 35 14 00 61 33 97 34 31 33 95\n",
        "78 17 53 28 22 75 31 67 15 94 03 80 04 62 16 14 09 53 56 92\n",
        "16 39 05 42 96 35 31 47 55 58 88 24 00 17 54 24 36 29 85 57\n",
        "86 56 00 48 35 71 89 07 05 44 44 37 44 60 21 58 51 54 17 58\n",
        "19 80 81 68 05 94 47 69 28 73 92 13 86 52 17 77 04 89 55 40\n",
        "04 52 08 83 97 35 99 16 07 97 57 32 16 26 26 79 33 27 98 66\n",
        "88 36 68 87 57 62 20 72 03 46 33 67 46 55 12 32 63 93 53 69\n",
        "04 42 16 73 38 25 39 11 24 94 72 18 08 46 29 32 40 62 76 36\n",
        "20 69 36 41 72 30 23 88 34 62 99 69 82 67 59 85 74 04 36 16\n",
        "20 73 35 29 78 31 90 01 74 31 49 71 48 86 81 16 23 57 05 54\n",
        "def remove(numbers):\n",
        "    return \"\".join(numbers.split())01 70 54 71 83 51 54 69 16 92 33 48 61 43 52 01 89 19 67 48\"\"\""
      ],
      "execution_count": 0,
      "outputs": []
    },
    {
      "cell_type": "code",
      "metadata": {
        "id": "C33pzSSb8lhA",
        "colab_type": "code",
        "outputId": "2bd1a3f8-f360-4426-8c34-4a1a53fe4aed",
        "colab": {
          "base_uri": "https://localhost:8080/",
          "height": 54
        }
      },
      "source": [
        "def remove(grid):\n",
        "    return grid.split(\" \")\n",
        "\n",
        "for i in grid:\n",
        "print(remove(grid))"
      ],
      "execution_count": 0,
      "outputs": [
        {
          "output_type": "stream",
          "text": [
            "['08', '02', '22', '97', '38', '15', '00', '40', '00', '75', '04', '05', '07', '78', '52', '12', '50', '77', '91', '08\\n49', '49', '99', '40', '17', '81', '18', '57', '60', '87', '17', '40', '98', '43', '69', '48', '04', '56', '62', '00\\n81', '49', '31', '73', '55', '79', '14', '29', '93', '71', '40', '67', '53', '88', '30', '03', '49', '13', '36', '65\\n52', '70', '95', '23', '04', '60', '11', '42', '69', '24', '68', '56', '01', '32', '56', '71', '37', '02', '36', '91\\n22', '31', '16', '71', '51', '67', '63', '89', '41', '92', '36', '54', '22', '40', '40', '28', '66', '33', '13', '80\\n24', '47', '32', '60', '99', '03', '45', '02', '44', '75', '33', '53', '78', '36', '84', '20', '35', '17', '12', '50\\n32', '98', '81', '28', '64', '23', '67', '10', '26', '38', '40', '67', '59', '54', '70', '66', '18', '38', '64', '70\\n67', '26', '20', '68', '02', '62', '12', '20', '95', '63', '94', '39', '63', '08', '40', '91', '66', '49', '94', '21\\n24', '55', '58', '05', '66', '73', '99', '26', '97', '17', '78', '78', '96', '83', '14', '88', '34', '89', '63', '72\\n21', '36', '23', '09', '75', '00', '76', '44', '20', '45', '35', '14', '00', '61', '33', '97', '34', '31', '33', '95\\n78', '17', '53', '28', '22', '75', '31', '67', '15', '94', '03', '80', '04', '62', '16', '14', '09', '53', '56', '92\\n16', '39', '05', '42', '96', '35', '31', '47', '55', '58', '88', '24', '00', '17', '54', '24', '36', '29', '85', '57\\n86', '56', '00', '48', '35', '71', '89', '07', '05', '44', '44', '37', '44', '60', '21', '58', '51', '54', '17', '58\\n19', '80', '81', '68', '05', '94', '47', '69', '28', '73', '92', '13', '86', '52', '17', '77', '04', '89', '55', '40\\n04', '52', '08', '83', '97', '35', '99', '16', '07', '97', '57', '32', '16', '26', '26', '79', '33', '27', '98', '66\\n88', '36', '68', '87', '57', '62', '20', '72', '03', '46', '33', '67', '46', '55', '12', '32', '63', '93', '53', '69\\n04', '42', '16', '73', '38', '25', '39', '11', '24', '94', '72', '18', '08', '46', '29', '32', '40', '62', '76', '36\\n20', '69', '36', '41', '72', '30', '23', '88', '34', '62', '99', '69', '82', '67', '59', '85', '74', '04', '36', '16\\n20', '73', '35', '29', '78', '31', '90', '01', '74', '31', '49', '71', '48', '86', '81', '16', '23', '57', '05', '54\\n01', '70', '54', '71', '83', '51', '54', '69', '16', '92', '33', '48', '61', '43', '52', '01', '89', '19', '67', '48']\n"
          ],
          "name": "stdout"
        }
      ]
    },
    {
      "cell_type": "code",
      "metadata": {
        "id": "2MgdciRG8npQ",
        "colab_type": "code",
        "colab": {}
      },
      "source": [
        "\"\"\"What is the value of the first triangle number to have over five hundred divisors?\"\"\"\n",
        "n = 7\n",
        "m = 500\n",
        "Count = 0\n",
        "for i in range(1, n):\n",
        "  for j in range(1, n):\n",
        "    if  m % j == 0:\n",
        "      #print(sum(div_num), j, end = \",\")\n",
        "      Count += 1 \n",
        "      m += 1 \n",
        "      print(Count)"
      ],
      "execution_count": 0,
      "outputs": []
    },
    {
      "cell_type": "code",
      "metadata": {
        "id": "2_g98XmWfgXT",
        "colab_type": "code",
        "colab": {}
      },
      "source": [
        "\"\"\"What is the value of the first triangle number to have over five hundred divisors?\"\"\"\n",
        "from functools import reduce \n",
        "def firsttriangle(i):\n",
        "  return reduce(lambda x,y: x+y, range(1, i+1))\n",
        "\n",
        "#def triangle_numbers(n):\n",
        "#  return [firsttriangle(i) for i in range(1, n+1)]\n",
        "\n",
        "#def number_of_divisors(x, n):\n",
        "  div_num = []\n",
        "  lst_count = []\n",
        "  lst_single_digi_div = []\n",
        "  for i in range(x, n+1):\n",
        "    Count = 0\n",
        "    singledigit = 0\n",
        "    if i == x:\n",
        "      div_num.append(firsttriangle(i))\n",
        "    else:\n",
        "      div_num.append(i)\n",
        "    #print(div_num, sum(div_num))\n",
        "    if len(str(sum(div_num))) > 4:\n",
        "      for s in [2, 3, 4, 5, 6, 7, 8, 9]:\n",
        "        if sum(div_num) % s == 0:\n",
        "          #print(sum(div_num), s, end = \",\")\n",
        "          singledigit += 1\n",
        "      if singledigit > 6:\n",
        "        lst_single_digi_div.append(sum(div_num))\n",
        "        \n",
        "      for j in range(1, (sum(div_num)+1)):\n",
        "        for k in lst_single_digi_div:\n",
        "          if k % j == 0:\n",
        "            Count += 1 \n",
        "    else:\n",
        "      for j in range(1, (sum(div_num)+1)):\n",
        "        if sum(div_num) % j == 0:\n",
        "          #print(sum(div_num), j, end = \",\")\n",
        "          Count += 1\n",
        "     \n",
        "    lst_count.append(Count)\n",
        "  print(sum(div_num), lst_count)\n",
        "  return max(lst_count)"
      ],
      "execution_count": 0,
      "outputs": []
    },
    {
      "cell_type": "code",
      "metadata": {
        "id": "iGgs4Jg830-P",
        "colab_type": "code",
        "outputId": "1c366560-1158-4beb-b9e8-74a174cf15b1",
        "colab": {
          "base_uri": "https://localhost:8080/",
          "height": 71
        }
      },
      "source": [
        "print(number_of_divisors(2600, 2700))\n",
        "\n",
        "#76576500"
      ],
      "execution_count": 0,
      "outputs": [
        {
          "output_type": "stream",
          "text": [
            "3646350 [0, 0, 0, 0, 0, 0, 0, 0, 0, 0, 0, 0, 0, 0, 0, 0, 0, 0, 0, 0, 0, 0, 0, 0, 192, 192, 192, 192, 192, 192, 192, 192, 192, 192, 192, 192, 192, 192, 192, 448, 448, 448, 448, 448, 448, 448, 448, 448, 448, 448, 448, 448, 448, 448, 448, 568, 568, 568, 568, 568, 568, 568, 568, 568, 568, 568, 568, 568, 568, 568, 568, 568, 568, 568, 568, 568, 568, 568, 568, 568, 568, 568, 568, 568, 568, 568, 568, 568, 568, 568, 568, 568, 568, 568, 568, 568, 568, 568, 568, 568, 568]\n",
            "568\n"
          ],
          "name": "stdout"
        }
      ]
    },
    {
      "cell_type": "code",
      "metadata": {
        "id": "zNJar29dTvcn",
        "colab_type": "code",
        "outputId": "f69448bd-df1f-4117-f17b-960390fbc97d",
        "colab": {
          "base_uri": "https://localhost:8080/",
          "height": 34
        }
      },
      "source": [
        "pow(2,20), pow(2,26)"
      ],
      "execution_count": 0,
      "outputs": [
        {
          "output_type": "execute_result",
          "data": {
            "text/plain": [
              "(1048576, 67108864)"
            ]
          },
          "metadata": {
            "tags": []
          },
          "execution_count": 266
        }
      ]
    },
    {
      "cell_type": "code",
      "metadata": {
        "id": "9aw9XjxFiydj",
        "colab_type": "code",
        "colab": {}
      },
      "source": [
        "\"\"\"What is the value of the first triangle number to have over five hundred divisors?\"\"\"\n",
        "\n",
        "import timeit\n",
        "start = timeit.default_timer()\n",
        "\n",
        "def number_of_divisors(n, c):\n",
        "  triangular_number = 0\n",
        "  for i in range(1, n+1):\n",
        "    Count = 0\n",
        "    singledig_div = 0\n",
        "    triangular_number += i \n",
        "\n",
        "    #check no of divisors\n",
        "    for j in range(1, triangular_number+1):\n",
        "      if triangular_number % j == 0:\n",
        "        Count += 1 \n",
        "    if Count >= c:\n",
        "      break\n",
        "\n",
        "  stop = timeit.default_timer()\n",
        "  execution_time = stop - start\n",
        "  return (triangular_number, execution_time)"
      ],
      "execution_count": 0,
      "outputs": []
    },
    {
      "cell_type": "code",
      "metadata": {
        "id": "mhMBmvHy0uRx",
        "colab_type": "code",
        "colab": {}
      },
      "source": [
        ""
      ],
      "execution_count": 0,
      "outputs": []
    },
    {
      "cell_type": "code",
      "metadata": {
        "id": "VUEtWanh_c3e",
        "colab_type": "code",
        "colab": {}
      },
      "source": [
        "\"\"\"What is the value of the first triangle number to have over five hundred divisors? using exponential formula\"\"\"\n",
        "from functools import reduce \n",
        "import time\n",
        "start_time = time.time()\n",
        "\n",
        "def no_of_divisors(n, divisors):\n",
        "  for t in range(2, n+1):\n",
        "    triangular_number = 0\n",
        "    exponential = []\n",
        "    for i in range(1, t+1):\n",
        "      #calculate the traingular number for i and sav it to lt_number\n",
        "      t_number = (i * (i + 1))//2\n",
        "      triangular_number += i\n",
        "    j = 2\n",
        "    while j <= triangular_number:\n",
        "      if triangular_number % j == 0:\n",
        "        triangular_number /= j\n",
        "        exponential.append(j)\n",
        "        j = j\n",
        "      else: \n",
        "        j += 1\n",
        "\n",
        "    my_dict = {i:exponential.count(i) for i in exponential}\n",
        "\n",
        "    res = list(map(lambda x: x + 1, my_dict.values()))\n",
        "\n",
        "    if res != []:\n",
        "      z = reduce(lambda x,y: x*y, res)\n",
        "\n",
        "    if z >= divisors:\n",
        "      print(\"For number:\",t, \"\\nTriangular number is:\", t_number, \"\\nNo of divisors are:\", z, \"\\nTime calculated is:\", (time.time() - start_time), sep=\" \")\n",
        "      break\n",
        "  \n",
        "  return t_number, z"
      ],
      "execution_count": 0,
      "outputs": []
    },
    {
      "cell_type": "code",
      "metadata": {
        "id": "72HeDYXP7Cz_",
        "colab_type": "code",
        "outputId": "f3218a4d-0140-443c-b07d-7e0814e599d3",
        "colab": {
          "base_uri": "https://localhost:8080/",
          "height": 102
        }
      },
      "source": [
        "no_of_divisors(15000, 500)"
      ],
      "execution_count": 0,
      "outputs": [
        {
          "output_type": "stream",
          "text": [
            "For number: 12375 \n",
            "Triangular number is: 76576500 \n",
            "No of divisors are: 576 \n",
            "Time calculated is: 55.357057332992554\n"
          ],
          "name": "stdout"
        },
        {
          "output_type": "execute_result",
          "data": {
            "text/plain": [
              "(76576500, 576)"
            ]
          },
          "metadata": {
            "tags": []
          },
          "execution_count": 6
        }
      ]
    },
    {
      "cell_type": "code",
      "metadata": {
        "id": "BiWsRu_c7Jug",
        "colab_type": "code",
        "outputId": "c594f2a0-c186-4501-b1e2-48b3598a97d0",
        "colab": {
          "base_uri": "https://localhost:8080/",
          "height": 34
        }
      },
      "source": [
        "%cd"
      ],
      "execution_count": 0,
      "outputs": [
        {
          "output_type": "stream",
          "text": [
            "/root\n"
          ],
          "name": "stdout"
        }
      ]
    },
    {
      "cell_type": "code",
      "metadata": {
        "id": "z6hP_9PW6N1I",
        "colab_type": "code",
        "colab": {}
      },
      "source": [
        ""
      ],
      "execution_count": 0,
      "outputs": []
    }
  ]
}